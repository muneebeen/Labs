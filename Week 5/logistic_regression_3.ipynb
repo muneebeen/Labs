{
 "cells": [
  {
   "cell_type": "markdown",
   "metadata": {
    "id": "02zG8NN9r8yQ"
   },
   "source": [
    "# In this task we are going to perform a classification task.\n",
    "\n",
    "# The data contains the exam 1 and exam 2 scores of the student, and if they are admitted or not.\n",
    "\n",
    "# The task is to classify whether the student will be admitted or not based on the exam 1 and exam 2 score."
   ]
  },
  {
   "cell_type": "code",
   "execution_count": null,
   "metadata": {
    "colab": {
     "base_uri": "https://localhost:8080/",
     "height": 74
    },
    "id": "NoS8_NPnmArn",
    "outputId": "ec627a2b-e066-41a4-90e3-99f8a90308ba"
   },
   "outputs": [
    {
     "data": {
      "text/html": [
       "\n",
       "     <input type=\"file\" id=\"files-8d825023-d993-46f3-bdaf-4c823853a0d4\" name=\"files[]\" multiple disabled\n",
       "        style=\"border:none\" />\n",
       "     <output id=\"result-8d825023-d993-46f3-bdaf-4c823853a0d4\">\n",
       "      Upload widget is only available when the cell has been executed in the\n",
       "      current browser session. Please rerun this cell to enable.\n",
       "      </output>\n",
       "      <script>// Copyright 2017 Google LLC\n",
       "//\n",
       "// Licensed under the Apache License, Version 2.0 (the \"License\");\n",
       "// you may not use this file except in compliance with the License.\n",
       "// You may obtain a copy of the License at\n",
       "//\n",
       "//      http://www.apache.org/licenses/LICENSE-2.0\n",
       "//\n",
       "// Unless required by applicable law or agreed to in writing, software\n",
       "// distributed under the License is distributed on an \"AS IS\" BASIS,\n",
       "// WITHOUT WARRANTIES OR CONDITIONS OF ANY KIND, either express or implied.\n",
       "// See the License for the specific language governing permissions and\n",
       "// limitations under the License.\n",
       "\n",
       "/**\n",
       " * @fileoverview Helpers for google.colab Python module.\n",
       " */\n",
       "(function(scope) {\n",
       "function span(text, styleAttributes = {}) {\n",
       "  const element = document.createElement('span');\n",
       "  element.textContent = text;\n",
       "  for (const key of Object.keys(styleAttributes)) {\n",
       "    element.style[key] = styleAttributes[key];\n",
       "  }\n",
       "  return element;\n",
       "}\n",
       "\n",
       "// Max number of bytes which will be uploaded at a time.\n",
       "const MAX_PAYLOAD_SIZE = 100 * 1024;\n",
       "\n",
       "function _uploadFiles(inputId, outputId) {\n",
       "  const steps = uploadFilesStep(inputId, outputId);\n",
       "  const outputElement = document.getElementById(outputId);\n",
       "  // Cache steps on the outputElement to make it available for the next call\n",
       "  // to uploadFilesContinue from Python.\n",
       "  outputElement.steps = steps;\n",
       "\n",
       "  return _uploadFilesContinue(outputId);\n",
       "}\n",
       "\n",
       "// This is roughly an async generator (not supported in the browser yet),\n",
       "// where there are multiple asynchronous steps and the Python side is going\n",
       "// to poll for completion of each step.\n",
       "// This uses a Promise to block the python side on completion of each step,\n",
       "// then passes the result of the previous step as the input to the next step.\n",
       "function _uploadFilesContinue(outputId) {\n",
       "  const outputElement = document.getElementById(outputId);\n",
       "  const steps = outputElement.steps;\n",
       "\n",
       "  const next = steps.next(outputElement.lastPromiseValue);\n",
       "  return Promise.resolve(next.value.promise).then((value) => {\n",
       "    // Cache the last promise value to make it available to the next\n",
       "    // step of the generator.\n",
       "    outputElement.lastPromiseValue = value;\n",
       "    return next.value.response;\n",
       "  });\n",
       "}\n",
       "\n",
       "/**\n",
       " * Generator function which is called between each async step of the upload\n",
       " * process.\n",
       " * @param {string} inputId Element ID of the input file picker element.\n",
       " * @param {string} outputId Element ID of the output display.\n",
       " * @return {!Iterable<!Object>} Iterable of next steps.\n",
       " */\n",
       "function* uploadFilesStep(inputId, outputId) {\n",
       "  const inputElement = document.getElementById(inputId);\n",
       "  inputElement.disabled = false;\n",
       "\n",
       "  const outputElement = document.getElementById(outputId);\n",
       "  outputElement.innerHTML = '';\n",
       "\n",
       "  const pickedPromise = new Promise((resolve) => {\n",
       "    inputElement.addEventListener('change', (e) => {\n",
       "      resolve(e.target.files);\n",
       "    });\n",
       "  });\n",
       "\n",
       "  const cancel = document.createElement('button');\n",
       "  inputElement.parentElement.appendChild(cancel);\n",
       "  cancel.textContent = 'Cancel upload';\n",
       "  const cancelPromise = new Promise((resolve) => {\n",
       "    cancel.onclick = () => {\n",
       "      resolve(null);\n",
       "    };\n",
       "  });\n",
       "\n",
       "  // Wait for the user to pick the files.\n",
       "  const files = yield {\n",
       "    promise: Promise.race([pickedPromise, cancelPromise]),\n",
       "    response: {\n",
       "      action: 'starting',\n",
       "    }\n",
       "  };\n",
       "\n",
       "  cancel.remove();\n",
       "\n",
       "  // Disable the input element since further picks are not allowed.\n",
       "  inputElement.disabled = true;\n",
       "\n",
       "  if (!files) {\n",
       "    return {\n",
       "      response: {\n",
       "        action: 'complete',\n",
       "      }\n",
       "    };\n",
       "  }\n",
       "\n",
       "  for (const file of files) {\n",
       "    const li = document.createElement('li');\n",
       "    li.append(span(file.name, {fontWeight: 'bold'}));\n",
       "    li.append(span(\n",
       "        `(${file.type || 'n/a'}) - ${file.size} bytes, ` +\n",
       "        `last modified: ${\n",
       "            file.lastModifiedDate ? file.lastModifiedDate.toLocaleDateString() :\n",
       "                                    'n/a'} - `));\n",
       "    const percent = span('0% done');\n",
       "    li.appendChild(percent);\n",
       "\n",
       "    outputElement.appendChild(li);\n",
       "\n",
       "    const fileDataPromise = new Promise((resolve) => {\n",
       "      const reader = new FileReader();\n",
       "      reader.onload = (e) => {\n",
       "        resolve(e.target.result);\n",
       "      };\n",
       "      reader.readAsArrayBuffer(file);\n",
       "    });\n",
       "    // Wait for the data to be ready.\n",
       "    let fileData = yield {\n",
       "      promise: fileDataPromise,\n",
       "      response: {\n",
       "        action: 'continue',\n",
       "      }\n",
       "    };\n",
       "\n",
       "    // Use a chunked sending to avoid message size limits. See b/62115660.\n",
       "    let position = 0;\n",
       "    do {\n",
       "      const length = Math.min(fileData.byteLength - position, MAX_PAYLOAD_SIZE);\n",
       "      const chunk = new Uint8Array(fileData, position, length);\n",
       "      position += length;\n",
       "\n",
       "      const base64 = btoa(String.fromCharCode.apply(null, chunk));\n",
       "      yield {\n",
       "        response: {\n",
       "          action: 'append',\n",
       "          file: file.name,\n",
       "          data: base64,\n",
       "        },\n",
       "      };\n",
       "\n",
       "      let percentDone = fileData.byteLength === 0 ?\n",
       "          100 :\n",
       "          Math.round((position / fileData.byteLength) * 100);\n",
       "      percent.textContent = `${percentDone}% done`;\n",
       "\n",
       "    } while (position < fileData.byteLength);\n",
       "  }\n",
       "\n",
       "  // All done.\n",
       "  yield {\n",
       "    response: {\n",
       "      action: 'complete',\n",
       "    }\n",
       "  };\n",
       "}\n",
       "\n",
       "scope.google = scope.google || {};\n",
       "scope.google.colab = scope.google.colab || {};\n",
       "scope.google.colab._files = {\n",
       "  _uploadFiles,\n",
       "  _uploadFilesContinue,\n",
       "};\n",
       "})(self);\n",
       "</script> "
      ],
      "text/plain": [
       "<IPython.core.display.HTML object>"
      ]
     },
     "metadata": {},
     "output_type": "display_data"
    },
    {
     "name": "stdout",
     "output_type": "stream",
     "text": [
      "Saving Social_Network_Ads.csv to Social_Network_Ads.csv\n"
     ]
    }
   ],
   "source": [
    "from google.colab import files\n",
    "uploaded = files.upload()"
   ]
  },
  {
   "cell_type": "markdown",
   "metadata": {
    "id": "LHRcyA9TsnPn"
   },
   "source": [
    "Import the lbraries"
   ]
  },
  {
   "cell_type": "code",
   "execution_count": 1,
   "metadata": {
    "id": "39TG1dJ9lp9Q"
   },
   "outputs": [],
   "source": [
    "# Your code to important Libraries - You need to import multiple libraries.\n",
    "from scipy import optimize\n",
    "import numpy as np\n",
    "import pandas as pd\n",
    "import matplotlib.pyplot as plt"
   ]
  },
  {
   "cell_type": "markdown",
   "metadata": {
    "id": "YVPo8K5Btoxj"
   },
   "source": [
    "# Read the data and split it into X and y.\n",
    "\n",
    "# X is the exam scores and y is the binary variable to determine if a student is admitted or not.\n",
    "\n"
   ]
  },
  {
   "cell_type": "code",
   "execution_count": 5,
   "metadata": {
    "id": "EhBcgTPSlzil"
   },
   "outputs": [],
   "source": [
    "data = np.loadtxt(\"ex2data1.txt\", delimiter=',')  # Note - The data is read using numpy rather than pandas.\n",
    "X = data[:, [0, 1]]\n",
    "y = data[:, 2]"
   ]
  },
  {
   "cell_type": "markdown",
   "metadata": {
    "id": "moqNTJIUuP1Q"
   },
   "source": [
    "# Print some samples of the input X"
   ]
  },
  {
   "cell_type": "code",
   "execution_count": 6,
   "metadata": {
    "id": "9sk7wBFimyDQ"
   },
   "outputs": [
    {
     "data": {
      "text/plain": [
       "array([[34.62365962, 78.02469282],\n",
       "       [30.28671077, 43.89499752],\n",
       "       [35.84740877, 72.90219803],\n",
       "       [60.18259939, 86.3085521 ],\n",
       "       [79.03273605, 75.34437644],\n",
       "       [45.08327748, 56.31637178],\n",
       "       [61.10666454, 96.51142588],\n",
       "       [75.02474557, 46.55401354],\n",
       "       [76.0987867 , 87.42056972],\n",
       "       [84.43281996, 43.53339331],\n",
       "       [95.86155507, 38.22527806],\n",
       "       [75.01365839, 30.60326323],\n",
       "       [82.30705337, 76.4819633 ],\n",
       "       [69.36458876, 97.71869196],\n",
       "       [39.53833914, 76.03681085],\n",
       "       [53.97105215, 89.20735014],\n",
       "       [69.07014406, 52.74046973],\n",
       "       [67.94685548, 46.67857411],\n",
       "       [70.66150955, 92.92713789],\n",
       "       [76.97878373, 47.57596365],\n",
       "       [67.37202755, 42.83843832],\n",
       "       [89.67677575, 65.79936593],\n",
       "       [50.53478829, 48.85581153],\n",
       "       [34.21206098, 44.2095286 ],\n",
       "       [77.92409145, 68.97235999],\n",
       "       [62.27101367, 69.95445795],\n",
       "       [80.19018075, 44.82162893],\n",
       "       [93.1143888 , 38.80067034],\n",
       "       [61.83020602, 50.25610789],\n",
       "       [38.7858038 , 64.99568096],\n",
       "       [61.37928945, 72.80788731],\n",
       "       [85.40451939, 57.05198398],\n",
       "       [52.10797973, 63.12762377],\n",
       "       [52.04540477, 69.43286012],\n",
       "       [40.23689374, 71.16774802],\n",
       "       [54.63510555, 52.21388588],\n",
       "       [33.91550011, 98.86943574],\n",
       "       [64.17698887, 80.90806059],\n",
       "       [74.78925296, 41.57341523],\n",
       "       [34.18364003, 75.23772034],\n",
       "       [83.90239366, 56.30804622],\n",
       "       [51.54772027, 46.85629026],\n",
       "       [94.44336777, 65.56892161],\n",
       "       [82.36875376, 40.61825516],\n",
       "       [51.04775177, 45.82270146],\n",
       "       [62.22267576, 52.06099195],\n",
       "       [77.19303493, 70.4582    ],\n",
       "       [97.77159928, 86.72782233],\n",
       "       [62.0730638 , 96.76882412],\n",
       "       [91.5649745 , 88.69629255],\n",
       "       [79.94481794, 74.16311935],\n",
       "       [99.27252693, 60.999031  ],\n",
       "       [90.54671411, 43.39060181],\n",
       "       [34.52451385, 60.39634246],\n",
       "       [50.28649612, 49.80453881],\n",
       "       [49.58667722, 59.80895099],\n",
       "       [97.64563396, 68.86157272],\n",
       "       [32.57720017, 95.59854761],\n",
       "       [74.24869137, 69.82457123],\n",
       "       [71.79646206, 78.45356225],\n",
       "       [75.39561147, 85.75993667],\n",
       "       [35.28611282, 47.02051395],\n",
       "       [56.2538175 , 39.26147251],\n",
       "       [30.05882245, 49.59297387],\n",
       "       [44.66826172, 66.45008615],\n",
       "       [66.56089447, 41.09209808],\n",
       "       [40.45755098, 97.53518549],\n",
       "       [49.07256322, 51.88321182],\n",
       "       [80.27957401, 92.11606081],\n",
       "       [66.74671857, 60.99139403],\n",
       "       [32.72283304, 43.30717306],\n",
       "       [64.03932042, 78.03168802],\n",
       "       [72.34649423, 96.22759297],\n",
       "       [60.45788574, 73.0949981 ],\n",
       "       [58.84095622, 75.85844831],\n",
       "       [99.8278578 , 72.36925193],\n",
       "       [47.26426911, 88.475865  ],\n",
       "       [50.4581598 , 75.80985953],\n",
       "       [60.45555629, 42.50840944],\n",
       "       [82.22666158, 42.71987854],\n",
       "       [88.91389642, 69.8037889 ],\n",
       "       [94.83450672, 45.6943068 ],\n",
       "       [67.31925747, 66.58935318],\n",
       "       [57.23870632, 59.51428198],\n",
       "       [80.366756  , 90.9601479 ],\n",
       "       [68.46852179, 85.5943071 ],\n",
       "       [42.07545454, 78.844786  ],\n",
       "       [75.47770201, 90.424539  ],\n",
       "       [78.63542435, 96.64742717],\n",
       "       [52.34800399, 60.76950526],\n",
       "       [94.09433113, 77.15910509],\n",
       "       [90.44855097, 87.50879176],\n",
       "       [55.48216114, 35.57070347],\n",
       "       [74.49269242, 84.84513685],\n",
       "       [89.84580671, 45.35828361],\n",
       "       [83.48916274, 48.3802858 ],\n",
       "       [42.26170081, 87.10385094],\n",
       "       [99.31500881, 68.77540947],\n",
       "       [55.34001756, 64.93193801],\n",
       "       [74.775893  , 89.5298129 ]])"
      ]
     },
     "execution_count": 6,
     "metadata": {},
     "output_type": "execute_result"
    }
   ],
   "source": [
    "# Your code to print samples of X\n",
    "X"
   ]
  },
  {
   "cell_type": "markdown",
   "metadata": {
    "id": "mgoGTU5hueID"
   },
   "source": [
    "# Print some samples of the output y"
   ]
  },
  {
   "cell_type": "code",
   "execution_count": 7,
   "metadata": {
    "id": "nemy2Qzmm0xQ"
   },
   "outputs": [
    {
     "data": {
      "text/plain": [
       "array([0., 0., 0., 1., 1., 0., 1., 1., 1., 1., 0., 0., 1., 1., 0., 1., 1.,\n",
       "       0., 1., 1., 0., 1., 0., 0., 1., 1., 1., 0., 0., 0., 1., 1., 0., 1.,\n",
       "       0., 0., 0., 1., 0., 0., 1., 0., 1., 0., 0., 0., 1., 1., 1., 1., 1.,\n",
       "       1., 1., 0., 0., 0., 1., 0., 1., 1., 1., 0., 0., 0., 0., 0., 1., 0.,\n",
       "       1., 1., 0., 1., 1., 1., 1., 1., 1., 1., 0., 0., 1., 1., 1., 1., 1.,\n",
       "       1., 0., 1., 1., 0., 1., 1., 0., 1., 1., 1., 1., 1., 1., 1.])"
      ]
     },
     "execution_count": 7,
     "metadata": {},
     "output_type": "execute_result"
    }
   ],
   "source": [
    "# Your code to print samples of y\n",
    "y"
   ]
  },
  {
   "cell_type": "markdown",
   "metadata": {
    "id": "McKtFWAsvjD7"
   },
   "source": [
    "# Plot the data"
   ]
  },
  {
   "cell_type": "code",
   "execution_count": 10,
   "metadata": {
    "colab": {
     "base_uri": "https://localhost:8080/",
     "height": 279
    },
    "id": "EH5l7vponBKY",
    "outputId": "5ed7df4b-d744-4b7c-fd38-5fa377bebab8"
   },
   "outputs": [
    {
     "data": {
      "image/png": "[encoded data removed]",
      "text/plain": [
       "<Figure size 432x288 with 1 Axes>"
      ]
     },
     "metadata": {
      "needs_background": "light"
     },
     "output_type": "display_data"
    }
   ],
   "source": [
    "plt.figure()\n",
    "plt.scatter(X[y == 1][:, 0], X[y == 1][:, 1], label=\"Admitted\")\n",
    "# Your code to plot all samples with target value 0\n",
    "plt.scatter(X[y == 0][:, 0], X[y == 0][:, 1], label=\"Not Admitted\", marker='x')\n",
    "\n",
    "\n",
    "plt.xlabel(\"Exam 1 score\")\n",
    "plt.ylabel(\"Exam 2 score\")\n",
    "plt.legend()\n",
    "plt.show()"
   ]
  },
  {
   "cell_type": "markdown",
   "metadata": {
    "id": "JVxpVJZsvwFc"
   },
   "source": [
    "# Function for the Sigmoid\n",
    "\n",
    "# $g(z) = \\frac {1}{1 + e ^{-z}}$"
   ]
  },
  {
   "cell_type": "code",
   "execution_count": 11,
   "metadata": {
    "id": "PC1tUhtenEdc"
   },
   "outputs": [],
   "source": [
    "def sigmoid(z):\n",
    "    # Your code to calculate the sigmoid values and then return it. Hint - np.exp()\n",
    "    return 1 / (1 + np.exp(-z))\n",
    "    "
   ]
  },
  {
   "cell_type": "markdown",
   "metadata": {
    "id": "Q5c8wpDpw_cQ"
   },
   "source": [
    "# Plot the sigmod function.\n",
    "\n",
    "# X axis will have numbers from -10 to 10 (could be any other range). Hint - You can use np.linespace or np.arange methods.\n",
    "\n",
    "# y will have sigmoid function values."
   ]
  },
  {
   "cell_type": "code",
   "execution_count": 13,
   "metadata": {
    "id": "iSvxs6nMnHY9"
   },
   "outputs": [
    {
     "data": {
      "image/png": "[encoded data removed]",
      "text/plain": [
       "<Figure size 432x288 with 1 Axes>"
      ]
     },
     "metadata": {
      "needs_background": "light"
     },
     "output_type": "display_data"
    }
   ],
   "source": [
    "# Generating values for x from -10 to 10\n",
    "x_values = np.linspace(-10, 10, 400)\n",
    "y_values = sigmoid(x_values)\n",
    "\n",
    "# Plotting\n",
    "plt.plot(x_values, y_values)\n",
    "plt.title(\"Sigmoid Function\")\n",
    "plt.xlabel(\"x\")\n",
    "plt.ylabel(\"sigmoid(x)\")\n",
    "plt.grid(True)\n",
    "plt.show()"
   ]
  },
  {
   "cell_type": "markdown",
   "metadata": {
    "id": "JKvKz7YUxmtv"
   },
   "source": [
    "# Define a function to calculate the cost.\n",
    "\n",
    "![image.png](data:image/png;base64,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)\n",
    "\n",
    "# Hint - Use the sigmoid function output, np.dot, and np.log functions."
   ]
  },
  {
   "cell_type": "code",
   "execution_count": 15,
   "metadata": {
    "id": "oc2rIrEenNAx"
   },
   "outputs": [],
   "source": [
    "def cost(theta, X, y):\n",
    "\n",
    "    m = len(y)\n",
    "    h = sigmoid(np.dot(X, theta))\n",
    "    \n",
    "    # Calculating the cost based on the formula\n",
    "    J = (-1/m) * np.sum(y * np.log(h) + (1 - y) * np.log(1 - h))\n",
    "    \n",
    "    return J"
   ]
  },
  {
   "attachments": {
    "image.png": {
     "image/png": "[encoded data removed]"
    }
   },
   "cell_type": "markdown",
   "metadata": {
    "id": "Mvxump7Lx8El"
   },
   "source": [
    "# Define a function to calculate gradients of cost function with respect to the theta.\n",
    "\n",
    "![image.png](attachment:image.png)"
   ]
  },
  {
   "cell_type": "code",
   "execution_count": 16,
   "metadata": {
    "id": "c7_0s-G1oibr"
   },
   "outputs": [],
   "source": [
    "def gradient(theta, X, y):\n",
    "    h = sigmoid(np.dot(X, theta))\n",
    "    grad = np.dot(X.T, h - y) / X.shape[0]\n",
    "    return grad"
   ]
  },
  {
   "cell_type": "markdown",
   "metadata": {
    "id": "GZFU5K2YzeVE"
   },
   "source": [
    "# Combine everything together.\n",
    "\n",
    "# This time we will use optimize function from scipy rather than writing gradient descent code from scratch"
   ]
  },
  {
   "cell_type": "code",
   "execution_count": 19,
   "metadata": {},
   "outputs": [
    {
     "name": "stdout",
     "output_type": "stream",
     "text": [
      "[[ 1.         34.62365962 78.02469282]\n",
      " [ 1.         30.28671077 43.89499752]\n",
      " [ 1.         35.84740877 72.90219803]\n",
      " [ 1.         60.18259939 86.3085521 ]\n",
      " [ 1.         79.03273605 75.34437644]]\n"
     ]
    }
   ],
   "source": [
    "# add a column with ones to X\n",
    "X_train = np.hstack((np.ones((X.shape[0], 1)), X))\n",
    "\n",
    "# Your code to print samples of X_train:\n",
    "print(X_train[:5, :])"
   ]
  },
  {
   "cell_type": "code",
   "execution_count": 20,
   "metadata": {},
   "outputs": [
    {
     "name": "stdout",
     "output_type": "stream",
     "text": [
      "[0 0 0]\n"
     ]
    }
   ],
   "source": [
    "# initiate 'theta' with zeros:\n",
    "theta = np.array([0, 0, 0])\n",
    "\n",
    "# Your code to print 'theta'\n",
    "print(theta)\n"
   ]
  },
  {
   "cell_type": "code",
   "execution_count": 21,
   "metadata": {
    "id": "dxMpl1xInPn3"
   },
   "outputs": [
    {
     "name": "stdout",
     "output_type": "stream",
     "text": [
      "0.20349770171124804\n",
      "[-25.16042853   0.20622447   0.20146428]\n"
     ]
    }
   ],
   "source": [
    "res = optimize.minimize(fun=cost, x0=theta, args=(X_train, y),\n",
    "                        method='Newton-CG', jac=gradient)    # Note - Optimization method is Newton - CG rather that \n",
    "                                                    # gradient descent. You can use other optimization methods too.\n",
    "print(res.fun)  # 0.203\n",
    "print(res.x)  # -25.161 0.206 0.201\n"
   ]
  },
  {
   "cell_type": "markdown",
   "metadata": {
    "id": "JVR6_QEb3Dly"
   },
   "source": [
    "# Plotting the decision boundary"
   ]
  },
  {
   "cell_type": "code",
   "execution_count": 22,
   "metadata": {
    "id": "Cup7Tv_YozXy"
   },
   "outputs": [],
   "source": [
    "def plotDecisionBoundary(theta, X, y):\n",
    "    x_min, x_max = X[:, 0].min() - 1, X[:, 0].max() + 1\n",
    "    y_min, y_max = X[:, 1].min() - 1, X[:, 1].max() + 1\n",
    "    xx, yy = np.meshgrid(np.arange(x_min, x_max, 0.1),\n",
    "                         np.arange(y_min, y_max, 0.1))\n",
    "    X_plot = np.c_[xx.ravel(), yy.ravel()]\n",
    "    X_plot = np.hstack((np.ones((X_plot.shape[0], 1)), X_plot))\n",
    "    y_plot = np.dot(X_plot, theta).reshape(xx.shape)\n",
    "\n",
    "    plt.figure()\n",
    "    plt.scatter(X[y == 1][:, 0], X[y == 1][:, 1], label=\"Admitted\")\n",
    "    plt.scatter(X[y == 0][:, 0], X[y == 0][:, 1], label=\"Not admitted\")\n",
    "    plt.contour(xx, yy, y_plot, levels=[0])\n",
    "    plt.xlabel(\"Exam 1 score\")\n",
    "    plt.ylabel(\"Exam 2 score\")\n",
    "    plt.legend()\n",
    "    plt.show()"
   ]
  },
  {
   "cell_type": "code",
   "execution_count": null,
   "metadata": {
    "colab": {
     "base_uri": "https://localhost:8080/",
     "height": 279
    },
    "id": "zzW1iuQ5o7Db",
    "outputId": "a8e0ad74-0a18-496b-92cd-1259056d42e8"
   },
   "outputs": [
    {
     "data": {
      "image/png": "[encoded data removed]",
      "text/plain": [
       "<Figure size 432x288 with 1 Axes>"
      ]
     },
     "metadata": {
      "needs_background": "light"
     },
     "output_type": "display_data"
    }
   ],
   "source": [
    "plotDecisionBoundary(res.x, X, y)\n"
   ]
  },
  {
   "cell_type": "markdown",
   "metadata": {
    "id": "MmxyAlwT3buh"
   },
   "source": [
    "# Getting the output - Probabilities.\n",
    "\n",
    "# What will be the output 1/0 for the following probability?"
   ]
  },
  {
   "cell_type": "code",
   "execution_count": 23,
   "metadata": {
    "colab": {
     "base_uri": "https://localhost:8080/"
    },
    "id": "51pKrUMho-5X",
    "outputId": "ef44c2f9-5ce1-452f-ac72-3cd5552fe1e9"
   },
   "outputs": [
    {
     "name": "stdout",
     "output_type": "stream",
     "text": [
      "0.7762831943814279\n"
     ]
    }
   ],
   "source": [
    "prob = sigmoid(np.dot(np.array([1, 45, 85]), res.x))\n",
    "print(prob)  # 0.775 +/- 0.002"
   ]
  },
  {
   "cell_type": "code",
   "execution_count": null,
   "metadata": {},
   "outputs": [],
   "source": []
  },
  {
   "cell_type": "markdown",
   "metadata": {
    "id": "UBODSAEm3xvu"
   },
   "source": [
    "# Making predictions\n",
    "\n",
    "# First, we get input X\n",
    "\n",
    "# Then probability using sigmod and updated theta values.\n",
    "\n",
    "# Then we will get output 1/0 based on the probability."
   ]
  },
  {
   "cell_type": "code",
   "execution_count": 24,
   "metadata": {
    "id": "Dxj6TOdLpC0c"
   },
   "outputs": [],
   "source": [
    "def predict(theta, X):\n",
    "    X_train = np.hstack((np.ones((X.shape[0], 1)), X))\n",
    "    probabilities = sigmoid(np.dot(X_train, theta))\n",
    "    \n",
    "    predictions = (probabilities >= 0.5).astype(int)\n",
    "    \n",
    "    return predictions\n"
   ]
  },
  {
   "cell_type": "markdown",
   "metadata": {
    "id": "R2ROcJI-4H6d"
   },
   "source": [
    "#  Calculating accuracy - number of correct classification/total number of classification."
   ]
  },
  {
   "cell_type": "code",
   "execution_count": 26,
   "metadata": {
    "id": "Hv_toRBjpFdY"
   },
   "outputs": [
    {
     "name": "stdout",
     "output_type": "stream",
     "text": [
      "0.89\n",
      "2001741.72\n"
     ]
    }
   ],
   "source": [
    "accuracy = np.mean(predict(res.x, X) == y)\n",
    "encrypted_value = accuracy * 2249148\n",
    "print(accuracy)\n",
    "print(encrypted_value)"
   ]
  },
  {
   "cell_type": "markdown",
   "metadata": {
    "id": "XNetBPpekYN9"
   },
   "source": [
    "# **Important-** Document in your lab logbook, final accuracy and the  encrypted value of the accuracy obtained after after multiplying accuracy by your SID i.e. accuracy*SID.  "
   ]
  },
  {
   "cell_type": "markdown",
   "metadata": {
    "id": "NZezu3t1EMcO"
   },
   "source": [
    "# **The rest of the notebook is optional. You are encouraged to complete it. But, if you have not, marks will not be deducted.**\n",
    "\n",
    "# Using SKlearn library to perform logistic regression task.\n",
    "\n"
   ]
  },
  {
   "cell_type": "code",
   "execution_count": null,
   "metadata": {
    "id": "8_NMmRac64ub"
   },
   "outputs": [],
   "source": [
    "from sklearn.model_selection import train_test_split\n",
    "from sklearn.preprocessing import StandardScaler\n",
    "from sklearn.linear_model import LogisticRegression\n",
    "from sklearn.metrics import confusion_matrix, ConfusionMatrixDisplay, classification_report, accuracy_score\n",
    "from matplotlib.colors import ListedColormap\n",
    "\n"
   ]
  },
  {
   "cell_type": "markdown",
   "metadata": {
    "id": "eo14hpo2FkX3"
   },
   "source": [
    "# Splitting the data into training and test sets"
   ]
  },
  {
   "cell_type": "code",
   "execution_count": null,
   "metadata": {
    "id": "5hqUfeuKFhSq"
   },
   "outputs": [],
   "source": [
    "# Your cose to split the data using sklearn train_test_split"
   ]
  },
  {
   "cell_type": "markdown",
   "metadata": {
    "id": "4dkQBH4lFtTk"
   },
   "source": [
    "# Scaling the data - Converting everthing between 0-1"
   ]
  },
  {
   "cell_type": "code",
   "execution_count": null,
   "metadata": {
    "id": "-A57QUnL7Axm"
   },
   "outputs": [],
   "source": [
    "sc = StandardScaler()\n",
    "X_train = sc.fit_transform(X_train)\n",
    "X_test = sc.transform(X_test)"
   ]
  },
  {
   "cell_type": "markdown",
   "metadata": {
    "id": "olIEzZ2KF1vt"
   },
   "source": [
    "# Running Logistc Regression on training data -\n",
    "\n",
    "# Remember - any kind of fit methiod  will be always used for the training data."
   ]
  },
  {
   "cell_type": "code",
   "execution_count": null,
   "metadata": {
    "id": "HItLnJqp7GMw"
   },
   "outputs": [],
   "source": [
    "classifier = LogisticRegression(random_state = 0)\n",
    "classifier.fit(X_train, y_train)"
   ]
  },
  {
   "cell_type": "markdown",
   "metadata": {
    "id": "jUU2bxKIGbDt"
   },
   "source": [
    "Making a prediction on the classifier."
   ]
  },
  {
   "cell_type": "markdown",
   "metadata": {
    "id": "vNcwAMM4GjAd"
   },
   "source": [
    "# Making a prediction on the test set dataset."
   ]
  },
  {
   "cell_type": "code",
   "execution_count": null,
   "metadata": {
    "id": "ka2aYW2A7L7M"
   },
   "outputs": [],
   "source": [
    "y_pred = classifier.predict(X_test)\n",
    "print(np.concatenate((y_pred.reshape(len(y_pred),1), y_test.reshape(len(y_test),1)),1))"
   ]
  },
  {
   "cell_type": "markdown",
   "metadata": {
    "id": "3CpLuta9HN04"
   },
   "source": [
    "# Getting the accuracy scores.\n",
    "\n",
    "## Will study in detail in class.\n",
    "\n"
   ]
  },
  {
   "cell_type": "code",
   "execution_count": null,
   "metadata": {
    "id": "clI8Ulv_HEoM"
   },
   "outputs": [],
   "source": [
    "print (classification_report(y_test, y_pred))\n",
    "\n",
    "print (print(\"Validation Accuracy: \",accuracy_score(y_test, y_pred)))"
   ]
  },
  {
   "cell_type": "markdown",
   "metadata": {
    "id": "foQaRSl2Go0I"
   },
   "source": [
    "# Plotting the Confusion Matrix."
   ]
  },
  {
   "cell_type": "code",
   "execution_count": null,
   "metadata": {
    "id": "PSi60KTm7OSu"
   },
   "outputs": [],
   "source": [
    "cm = confusion_matrix(y_test, y_pred)\n",
    "disp = ConfusionMatrixDisplay(confusion_matrix=cm, display_labels=classifier.classes_)\n",
    "disp.plot()\n",
    "plt.show()\n"
   ]
  },
  {
   "cell_type": "code",
   "execution_count": null,
   "metadata": {
    "id": "H47f4Nmv7T92"
   },
   "outputs": [],
   "source": [
    "# Visualising the Training set results\n",
    "from matplotlib.colors import ListedColormap\n",
    "X_set, y_set = X_train, y_train\n",
    "X, Y = np.meshgrid(np.arange(start = X_set[:, 0].min() - 1, stop = X_set[:, 0].max() + 1, step = 0.01),\n",
    "                     np.arange(start = X_set[:, 1].min() - 1, stop = X_set[:, 1].max() + 1, step = 0.01))\n",
    "\n",
    "probs = classifier.predict(np.array([X.ravel(), Y.ravel()]).T).reshape(X.shape)\n",
    "plt.contourf(X, Y, probs, alpha = 0.75, cmap = ListedColormap(('red', 'green')))\n",
    "plt.xlim(X.min(), X.max())\n",
    "plt.ylim(Y.min(), Y.max())\n",
    "\n",
    "for i, j in enumerate(np.unique(y_set)):\n",
    "    plt.scatter(X_set[y_set == j, 0], X_set[y_set == j, 1],\n",
    "                c = ListedColormap(('red', 'green'))(i), label = j, edgecolor=\"white\")\n",
    "\n",
    "plt.title('Logistic Regression Classifier (Training set)')\n",
    "plt.xlabel('Age')\n",
    "plt.ylabel('Estimated Salary')\n",
    "plt.legend()\n",
    "plt.show()\n"
   ]
  },
  {
   "cell_type": "code",
   "execution_count": null,
   "metadata": {
    "id": "SeuKMsBd7WWf"
   },
   "outputs": [],
   "source": [
    "# Visualising the Test set results\n",
    "X_set, y_set = X_test, y_test\n",
    "X, Y = np.meshgrid(np.arange(start = X_set[:, 0].min() - 1, stop = X_set[:, 0].max() + 1, step = 0.01),\n",
    "                     np.arange(start = X_set[:, 1].min() - 1, stop = X_set[:, 1].max() + 1, step = 0.01))\n",
    "\n",
    "probs = classifier.predict(np.array([X.ravel(), Y.ravel()]).T).reshape(X.shape)\n",
    "plt.contourf(X, Y, probs, alpha = 0.75, cmap = ListedColormap(('red', 'green')))\n",
    "plt.xlim(X.min(), X.max())\n",
    "plt.ylim(Y.min(), Y.max())\n",
    "\n",
    "for i, j in enumerate(np.unique(y_set)):\n",
    "    plt.scatter(X_set[y_set == j, 0], X_set[y_set == j, 1],\n",
    "                c = ListedColormap(('red', 'green'))(i), label = j, edgecolor=\"white\")\n",
    "\n",
    "plt.title('Logistic Regression Classifier (Test set)')\n",
    "plt.xlabel('Age')\n",
    "plt.ylabel('Estimated Salary')\n",
    "plt.legend()\n",
    "plt.show()"
   ]
  }
 ],
 "metadata": {
  "colab": {
   "provenance": []
  },
  "kernelspec": {
   "display_name": "Python 3 (ipykernel)",
   "language": "python",
   "name": "python3"
  },
  "language_info": {
   "codemirror_mode": {
    "name": "ipython",
    "version": 3
   },
   "file_extension": ".py",
   "mimetype": "text/x-python",
   "name": "python",
   "nbconvert_exporter": "python",
   "pygments_lexer": "ipython3",
   "version": "3.9.12"
  }
 },
 "nbformat": 4,
 "nbformat_minor": 1
}
